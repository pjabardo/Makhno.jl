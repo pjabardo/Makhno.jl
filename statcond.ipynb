{
 "metadata": {
  "language": "Julia",
  "name": "",
  "signature": "sha256:624e511d5f61368af617e136c3b2b599b7f36602ed3d43b8cd45b29217f58de4"
 },
 "nbformat": 3,
 "nbformat_minor": 0,
 "worksheets": [
  {
   "cells": [
    {
     "cell_type": "heading",
     "level": 1,
     "metadata": {},
     "source": [
      "Testing static condensation for simple matrices"
     ]
    },
    {
     "cell_type": "code",
     "collapsed": true,
     "input": [
      "function make_matrix(n, s=5.0)\n",
      "    A = randn(n,n)\n",
      "    for i = 1:n\n",
      "        A[i,i] += s\n",
      "    end\n",
      "    A\n",
      "end"
     ],
     "language": "python",
     "metadata": {},
     "outputs": [
      {
       "metadata": {},
       "output_type": "pyout",
       "prompt_number": 4,
       "text": [
        "make_matrix (generic function with 2 methods)"
       ]
      }
     ],
     "prompt_number": 4
    },
    {
     "cell_type": "code",
     "collapsed": false,
     "input": [
      "nonsymm2symm(A) = (A + A')/2.0"
     ],
     "language": "python",
     "metadata": {},
     "outputs": [
      {
       "metadata": {},
       "output_type": "pyout",
       "prompt_number": 5,
       "text": [
        "nonsymm2symm (generic function with 1 method)"
       ]
      }
     ],
     "prompt_number": 5
    },
    {
     "cell_type": "code",
     "collapsed": false,
     "input": [
      "make_symmat(n) = nonsymm2symm(make_matrix(n))"
     ],
     "language": "python",
     "metadata": {},
     "outputs": [
      {
       "metadata": {},
       "output_type": "pyout",
       "prompt_number": 6,
       "text": [
        "make_symmat (generic function with 1 method)"
       ]
      }
     ],
     "prompt_number": 6
    },
    {
     "cell_type": "code",
     "collapsed": true,
     "input": [
      "n = 5\n",
      "A = make_symmat(n)"
     ],
     "language": "python",
     "metadata": {},
     "outputs": [
      {
       "metadata": {},
       "output_type": "pyout",
       "prompt_number": 7,
       "text": [
        "5x5 Array{Float64,2}:\n",
        "  3.22619   -0.305419   0.346868  -1.51704   -1.04451 \n",
        " -0.305419   6.01351    0.50301   -1.14465   -0.614683\n",
        "  0.346868   0.50301    5.52941    0.50905   -0.629272\n",
        " -1.51704   -1.14465    0.50905    5.96433    0.952459\n",
        " -1.04451   -0.614683  -0.629272   0.952459   4.07297 "
       ]
      }
     ],
     "prompt_number": 7
    },
    {
     "cell_type": "code",
     "collapsed": true,
     "input": [
      "type MatrixDecomp\n",
      "    nb::Int\n",
      "    ni::Int\n",
      "    Abb::Array{Float64,2}\n",
      "    Aii::Array{Float64,2}\n",
      "    Abi::Array{Float64,2}\n",
      "    Aib::Array{Float64,2}\n",
      "    \n",
      "    function MatrixDecomp(A, nb, ni)\n",
      "        Abb = A[1:nb, 1:nb]\n",
      "        Abi = A[1:nb, (nb+1):end]\n",
      "        Aib = A[(nb+1):end, 1:nb]\n",
      "        Aii = A[(nb+1):end, (nb+1):end]\n",
      "        \n",
      "        new(nb, ni, Abb, Aii, Abi, Aib)\n",
      "    end\n",
      "end\n"
     ],
     "language": "python",
     "metadata": {},
     "outputs": [],
     "prompt_number": 9
    },
    {
     "cell_type": "code",
     "collapsed": true,
     "input": [
      "X = MatrixDecomp(A, 3, 2)"
     ],
     "language": "python",
     "metadata": {},
     "outputs": [
      {
       "metadata": {},
       "output_type": "pyout",
       "prompt_number": 10,
       "text": [
        "MatrixDecomp(3,2,3x3 Array{Float64,2}:\n",
        "  3.22619   -0.305419  0.346868\n",
        " -0.305419   6.01351   0.50301 \n",
        "  0.346868   0.50301   5.52941 ,2x2 Array{Float64,2}:\n",
        " 5.96433   0.952459\n",
        " 0.952459  4.07297 ,3x2 Array{Float64,2}:\n",
        " -1.51704  -1.04451 \n",
        " -1.14465  -0.614683\n",
        "  0.50905  -0.629272,2x3 Array{Float64,2}:\n",
        " -1.51704  -1.14465    0.50905 \n",
        " -1.04451  -0.614683  -0.629272)"
       ]
      }
     ],
     "prompt_number": 10
    },
    {
     "cell_type": "code",
     "collapsed": true,
     "input": [
      "using Base.LinAlg.LAPACK.getrf!\n",
      "using Base.LinAlg.LAPACK.getrs!\n",
      "using Base.LinAlg.BLAS.gemm!\n",
      "type StaticCond\n",
      "    nb::Int\n",
      "    ni::Int\n",
      "    B::Array{Float64,2}\n",
      "    iAii::Array{Float64,2}\n",
      "    X::Array{Float64,2}\n",
      "    Y::Array{Float64,2}\n",
      "    function StaticCond(A::MatrixDecomp)\n",
      "        nb = A.nb\n",
      "        ni = A.ni\n",
      "        B = zeros(nb, nb)\n",
      "        iAii = copy(A.Aii)\n",
      "        iAii, ipiv, info = getrf!(iAii)\n",
      "        X = A.Abi'\n",
      "        getrs!('T', iAii, ipiv, X)\n",
      "        Y = copy(A.Aib)\n",
      "        getrs!('N', iAii, ipiv, Y)\n",
      "        \n",
      "        B = copy(A.Abb)\n",
      "        gemm!('T', 'N', -1.0, X, A.Aib, 1.0, B)\n",
      "        \n",
      "        new(nb, ni, B, iAii, X, Y)\n",
      "    end\n",
      "end\n",
      "\n",
      "        \n",
      "        \n",
      "        \n",
      "        \n",
      "        "
     ],
     "language": "python",
     "metadata": {},
     "outputs": [],
     "prompt_number": 12
    },
    {
     "cell_type": "code",
     "collapsed": false,
     "input": [],
     "language": "python",
     "metadata": {},
     "outputs": []
    }
   ],
   "metadata": {}
  }
 ]
}